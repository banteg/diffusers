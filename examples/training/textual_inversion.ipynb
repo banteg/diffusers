{
 "cells": [
  {
   "cell_type": "code",
   "execution_count": 1,
   "metadata": {},
   "outputs": [],
   "source": [
    "%load_ext autoreload\n",
    "%autoreload 2\n",
    "\n",
    "import torch\n",
    "from textual_inversion import TextualInversionWrapper, CLIPTextConfig"
   ]
  },
  {
   "cell_type": "code",
   "execution_count": 2,
   "metadata": {},
   "outputs": [],
   "source": [
    "config = CLIPTextConfig(\n",
    "    num_hidden_layers=1,\n",
    "    hidden_size=32,\n",
    "    num_attention_heads=4,\n",
    ")\n",
    "placeholder_token_id = 2\n",
    "initializer_token_id = 3\n",
    "model = TextualInversionWrapper(config, placeholder_token_id, initializer_token_id)"
   ]
  },
  {
   "cell_type": "code",
   "execution_count": 3,
   "metadata": {},
   "outputs": [],
   "source": [
    "model.init_concept_embeddings()"
   ]
  },
  {
   "cell_type": "code",
   "execution_count": 4,
   "metadata": {},
   "outputs": [],
   "source": [
    "assert torch.allclose(\n",
    "    model.concept_embeddings,\n",
    "    model.get_input_embeddings().weight.data[initializer_token_id]\n",
    ")"
   ]
  },
  {
   "cell_type": "code",
   "execution_count": 5,
   "metadata": {},
   "outputs": [],
   "source": [
    "model.freeze_text_model()\n",
    "assert not model.get_input_embeddings().weight.requires_grad\n",
    "assert model.concept_embeddings.requires_grad"
   ]
  },
  {
   "cell_type": "code",
   "execution_count": 6,
   "metadata": {},
   "outputs": [
    {
     "data": {
      "text/plain": [
       "torch.Size([1, 5, 32])"
      ]
     },
     "execution_count": 6,
     "metadata": {},
     "output_type": "execute_result"
    }
   ],
   "source": [
    "input_ids = torch.tensor([[1, 2, 3, 4, 5]], dtype=torch.long)\n",
    "with torch.no_grad():\n",
    "    out = model(input_ids)[0]\n",
    "out.shape"
   ]
  },
  {
   "cell_type": "code",
   "execution_count": 8,
   "metadata": {},
   "outputs": [],
   "source": [
    "\n",
    "model.merge_concept_embeddings_in_embeddings()\n",
    "assert not model.get_input_embeddings().weight.requires_grad\n",
    "assert torch.allclose(\n",
    "    model.get_input_embeddings().weight.data[placeholder_token_id],\n",
    "    model.get_initializer_embeddings().data\n",
    ")"
   ]
  },
  {
   "cell_type": "code",
   "execution_count": 9,
   "metadata": {},
   "outputs": [],
   "source": [
    "model.save_pretrained(\"dummy-clip-text\")"
   ]
  },
  {
   "cell_type": "code",
   "execution_count": 10,
   "metadata": {},
   "outputs": [],
   "source": [
    "from transformers import CLIPTextModel"
   ]
  },
  {
   "cell_type": "code",
   "execution_count": 11,
   "metadata": {},
   "outputs": [
    {
     "name": "stderr",
     "output_type": "stream",
     "text": [
      "Some weights of the model checkpoint at dummy-clip-text were not used when initializing CLIPTextModel: ['concept_embeddings']\n",
      "- This IS expected if you are initializing CLIPTextModel from the checkpoint of a model trained on another task or with another architecture (e.g. initializing a BertForSequenceClassification model from a BertForPreTraining model).\n",
      "- This IS NOT expected if you are initializing CLIPTextModel from the checkpoint of a model that you expect to be exactly identical (initializing a BertForSequenceClassification model from a BertForSequenceClassification model).\n"
     ]
    }
   ],
   "source": [
    "text_model = CLIPTextModel.from_pretrained(\"dummy-clip-text\")"
   ]
  },
  {
   "cell_type": "code",
   "execution_count": 14,
   "metadata": {},
   "outputs": [],
   "source": [
    "assert torch.allclose(\n",
    "    text_model.get_input_embeddings().weight.data[placeholder_token_id],\n",
    "    model.get_initializer_embeddings().data\n",
    ")\n",
    "\n",
    "assert torch.allclose(\n",
    "    text_model.get_input_embeddings().weight.data[placeholder_token_id],\n",
    "    model.get_concept_embeddings().data\n",
    ")"
   ]
  },
  {
   "cell_type": "code",
   "execution_count": 26,
   "metadata": {},
   "outputs": [
    {
     "data": {
      "text/plain": [
       "tensor([[0.]], grad_fn=<DivBackward0>)"
      ]
     },
     "execution_count": 26,
     "metadata": {},
     "output_type": "execute_result"
    }
   ],
   "source": [
    "optimized = model.get_concept_embeddings().unsqueeze(0)\n",
    "coarse = model.get_initializer_embeddings().clone().to(optimized.device).unsqueeze(0)\n",
    "coarse_loss = (optimized - coarse) @ (optimized - coarse).T / 1\n",
    "coarse_loss"
   ]
  },
  {
   "cell_type": "code",
   "execution_count": 27,
   "metadata": {},
   "outputs": [
    {
     "data": {
      "text/plain": [
       "tensor(0., grad_fn=<DivBackward0>)"
      ]
     },
     "execution_count": 27,
     "metadata": {},
     "output_type": "execute_result"
    }
   ],
   "source": [
    "optimized = model.get_concept_embeddings()\n",
    "coarse = model.get_initializer_embeddings().clone().to(optimized.device)\n",
    "coarse_loss = (optimized - coarse) @ (optimized - coarse).T / 1\n",
    "coarse_loss"
   ]
  },
  {
   "cell_type": "code",
   "execution_count": 28,
   "metadata": {},
   "outputs": [
    {
     "data": {
      "text/plain": [
       "tensor(64.)"
      ]
     },
     "execution_count": 28,
     "metadata": {},
     "output_type": "execute_result"
    }
   ],
   "source": [
    "optimized = torch.tensor([1, 2, 3, 4])\n",
    "coarse = torch.tensor([5, 6, 7, 8])\n",
    "coarse_loss = (optimized - coarse) @ (optimized - coarse).T / 1\n",
    "coarse_loss"
   ]
  },
  {
   "cell_type": "code",
   "execution_count": 29,
   "metadata": {},
   "outputs": [
    {
     "data": {
      "text/plain": [
       "tensor([[64.]])"
      ]
     },
     "execution_count": 29,
     "metadata": {},
     "output_type": "execute_result"
    }
   ],
   "source": [
    "optimized = torch.tensor([1, 2, 3, 4]).unsqueeze(0)\n",
    "coarse = torch.tensor([5, 6, 7, 8]).unsqueeze(0)\n",
    "coarse_loss = (optimized - coarse) @ (optimized - coarse).T / 1\n",
    "coarse_loss"
   ]
  },
  {
   "cell_type": "markdown",
   "metadata": {},
   "source": [
    "### Data"
   ]
  },
  {
   "cell_type": "code",
   "execution_count": 34,
   "metadata": {},
   "outputs": [],
   "source": [
    "from textual_inversion import PersonalizedBase, CLIPTokenizer"
   ]
  },
  {
   "cell_type": "code",
   "execution_count": 35,
   "metadata": {},
   "outputs": [],
   "source": [
    "tokenizer = CLIPTokenizer.from_pretrained(\"openai/clip-vit-base-patch32\")"
   ]
  },
  {
   "cell_type": "code",
   "execution_count": 48,
   "metadata": {},
   "outputs": [],
   "source": [
    "data_root = \"/Users/surajpatil/projects/stylepics\"\n",
    "dataset = PersonalizedBase(data_root, tokenizer, \"style\", size=512)"
   ]
  },
  {
   "cell_type": "code",
   "execution_count": 50,
   "metadata": {},
   "outputs": [],
   "source": [
    "example = dataset[0]"
   ]
  },
  {
   "cell_type": "code",
   "execution_count": 51,
   "metadata": {},
   "outputs": [
    {
     "data": {
      "text/plain": [
       "torch.Size([3, 512, 512])"
      ]
     },
     "execution_count": 51,
     "metadata": {},
     "output_type": "execute_result"
    }
   ],
   "source": [
    "example[\"pixel_values\"].shape"
   ]
  },
  {
   "cell_type": "code",
   "execution_count": null,
   "metadata": {},
   "outputs": [],
   "source": []
  }
 ],
 "metadata": {
  "kernelspec": {
   "display_name": "Python 3.7.9 64-bit ('transformers-env3.7')",
   "language": "python",
   "name": "python3"
  },
  "language_info": {
   "codemirror_mode": {
    "name": "ipython",
    "version": 3
   },
   "file_extension": ".py",
   "mimetype": "text/x-python",
   "name": "python",
   "nbconvert_exporter": "python",
   "pygments_lexer": "ipython3",
   "version": "3.7.9"
  },
  "orig_nbformat": 4,
  "vscode": {
   "interpreter": {
    "hash": "c2cd60d386d09d819b9841bcc12eec18dd03d8365ba3ac748d4cd1f04368a837"
   }
  }
 },
 "nbformat": 4,
 "nbformat_minor": 2
}
